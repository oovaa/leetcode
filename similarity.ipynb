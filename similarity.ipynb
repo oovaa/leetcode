{
 "cells": [
  {
   "cell_type": "code",
   "execution_count": 1,
   "id": "ef31efa2-1e1d-4f54-95cf-7ba51dfb25ba",
   "metadata": {},
   "outputs": [],
   "source": [
    "import numpy as np\n",
    "import pandas as pd\n",
    "from sklearn.metrics import jaccard_score\n",
    "from sklearn.metrics.pairwise import cosine_similarity\n",
    "import matplotlib.pyplot as plt"
   ]
  },
  {
   "cell_type": "code",
   "execution_count": 39,
   "id": "eb275ac4-a314-472b-aeb5-d7098bf39b78",
   "metadata": {},
   "outputs": [],
   "source": [
    "# المتجهات الثنائية\n",
    "x = np.array([1, 0, 0, 0, 0, 0, 0, 0, 0, 0])\n",
    "y = np.array([0, 0, 0, 0, 0, 0, 1, 0, 0, 1])"
   ]
  },
  {
   "cell_type": "code",
   "execution_count": 41,
   "id": "1f89504f-9730-4a3d-9891-482457e3b470",
   "metadata": {},
   "outputs": [
    {
     "name": "stdout",
     "output_type": "stream",
     "text": [
      "f01 = 2, f10 = 1, f00 = 7, f11 = 0\n"
     ]
    }
   ],
   "source": [
    "f01 = np.sum((x == 0) & (y == 1))\n",
    "f10 = np.sum((x == 1) & (y == 0))\n",
    "f00 = np.sum((x == 0) & (y == 0))\n",
    "f11 = np.sum((x == 1) & (y == 1))\n",
    "\n",
    "print(f'f01 = {f01}, f10 = {f10}, f00 = {f00}, f11 = {f11}')\n"
   ]
  },
  {
   "cell_type": "code",
   "execution_count": 43,
   "id": "16e44f90-fb4d-4b26-93fa-8142d0fe0f9c",
   "metadata": {},
   "outputs": [
    {
     "name": "stdout",
     "output_type": "stream",
     "text": [
      "Simple Matching Coefficient (SMC) = 0.700\n"
     ]
    }
   ],
   "source": [
    "SMC = (f11 + f00) / (f01 + f10 + f11 + f00)\n",
    "print(f'Simple Matching Coefficient (SMC) = {SMC:.3f}')\n"
   ]
  },
  {
   "cell_type": "code",
   "execution_count": 45,
   "id": "9a031e18-4d49-43e3-ba6f-f1837fa37e93",
   "metadata": {},
   "outputs": [
    {
     "name": "stdout",
     "output_type": "stream",
     "text": [
      "Jaccard Similarity = 0.000\n"
     ]
    }
   ],
   "source": [
    "Jaccard = f11 / (f01 + f10 + f11) if (f01 + f10 + f11) != 0 else 0\n",
    "print(f'Jaccard Similarity = {Jaccard:.3f}')\n"
   ]
  },
  {
   "cell_type": "code",
   "execution_count": 47,
   "id": "aab67ce2-143c-4611-adbd-4209af01804d",
   "metadata": {},
   "outputs": [
    {
     "name": "stdout",
     "output_type": "stream",
     "text": [
      "Cosine Similarity = 0.000\n"
     ]
    }
   ],
   "source": [
    "# reshape ضروري لأن sklearn تحتاج 2D arrays\n",
    "cos_sim = cosine_similarity([x], [y])[0][0]\n",
    "print(f'Cosine Similarity = {cos_sim:.3f}')\n"
   ]
  },
  {
   "cell_type": "code",
   "execution_count": 49,
   "id": "5110f092-a3c3-4ae0-b8ef-f25d6b585f8b",
   "metadata": {},
   "outputs": [
    {
     "name": "stdout",
     "output_type": "stream",
     "text": [
      "Correlation Coefficient = -0.167\n"
     ]
    }
   ],
   "source": [
    "correlation = np.corrcoef(x, y)[0,1]\n",
    "print(f'Correlation Coefficient = {correlation:.3f}')\n"
   ]
  },
  {
   "cell_type": "code",
   "execution_count": 62,
   "id": "24569878-ca48-4882-946c-fd350df44503",
   "metadata": {},
   "outputs": [
    {
     "name": "stdout",
     "output_type": "stream",
     "text": [
      "Mutual Information: [0 0]\n"
     ]
    }
   ],
   "source": [
    "from sklearn.feature_selection import mutual_info_classif\n",
    "\n",
    "# كمثال، بيانات وهمية\n",
    "X = np.array([[45,87978],[8,988],[9,789],[889,7]])\n",
    "y = np.array([0,1,0,1])\n",
    "\n",
    "mi = mutual_info_classif(X, y)\n",
    "print(\"Mutual Information:\", mi)\n"
   ]
  },
  {
   "cell_type": "code",
   "execution_count": 66,
   "id": "9783782a-3184-4425-b91c-e2e091ed69e4",
   "metadata": {},
   "outputs": [
    {
     "name": "stdout",
     "output_type": "stream",
     "text": [
      "Mutual Information: [0.83333333 0.83333333]\n"
     ]
    }
   ],
   "source": [
    "from sklearn.feature_selection import mutual_info_classif\n",
    "\n",
    "# كمثال، بيانات وهمية\n",
    "X = np.array([[0,1],[1,0],[0,1],[1,0]])\n",
    "y = np.array([0,1,0,1])\n",
    "\n",
    "mi = mutual_info_classif(X, y)\n",
    "print(\"Mutual Information:\", mi)"
   ]
  },
  {
   "cell_type": "code",
   "execution_count": null,
   "id": "c9210d94-3332-4ab5-83f1-a4d09e18ad9e",
   "metadata": {},
   "outputs": [],
   "source": []
  }
 ],
 "metadata": {
  "kernelspec": {
   "display_name": ".venv",
   "language": "python",
   "name": "python3"
  },
  "language_info": {
   "codemirror_mode": {
    "name": "ipython",
    "version": 3
   },
   "file_extension": ".py",
   "mimetype": "text/x-python",
   "name": "python",
   "nbconvert_exporter": "python",
   "pygments_lexer": "ipython3",
   "version": "3.12.3"
  }
 },
 "nbformat": 4,
 "nbformat_minor": 5
}
